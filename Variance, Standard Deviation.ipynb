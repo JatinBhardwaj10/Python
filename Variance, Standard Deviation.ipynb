{
 "cells": [
  {
   "cell_type": "code",
   "execution_count": 1,
   "metadata": {},
   "outputs": [],
   "source": [
    "import numpy as np\n",
    "import pandas as pd\n",
    "import statistics as stats"
   ]
  },
  {
   "cell_type": "markdown",
   "metadata": {},
   "source": [
    "<font color=cyan>\n",
    "Q1 Find standard deviation for the given list of items<br>\n",
    "items = [12,86,87,88,86,87,85,86]\n",
    "</font>"
   ]
  },
  {
   "cell_type": "code",
   "execution_count": 1,
   "metadata": {},
   "outputs": [
    {
     "name": "stdout",
     "output_type": "stream",
     "text": [
      "Standard Daviation of the given data is : 24.61706725018234\n"
     ]
    }
   ],
   "source": [
    "import numpy as np\n",
    "import statistics as stats\n",
    "\n",
    "items = np.array([12,86,87,88,86,87,85,86])\n",
    "standard_daviation = stats.pstdev(items)\n",
    "print(\"Standard Daviation of the given data is :\",standard_daviation)"
   ]
  },
  {
   "cell_type": "markdown",
   "metadata": {},
   "source": [
    "<font color=cyan>\n",
    "Q2 Below three columns, calculate standard deviation using pandas library first convert below d into a dataframe.<br>\n",
    "d = {<br>\n",
    "    'Name':['Alisa','Bobby','Cathrine','Madonna','Rocky','Sebastian','Jaqluine',<br>\n",
    "   'Rahul','David','Andrew','Ajay','Teresa'],<br>\n",
    "   'Score1':[62,47,55,74,31,77,85,63,42,32,71,57],<br>\n",
    "   'Score2':[89,87,67,55,47,72,76,79,44,92,99,69],<br>\n",
    "   'Score3':[56,86,77,45,73,62,74,89,71,67,97,68]}\n",
    "</font>"
   ]
  },
  {
   "cell_type": "code",
   "execution_count": 3,
   "metadata": {},
   "outputs": [
    {
     "name": "stdout",
     "output_type": "stream",
     "text": [
      "Standard Daviation of Score1 : 16.703293088490067\n",
      "Standard Daviation of Score2 : 16.901676445449624\n",
      "Standard Daviation of Score3 : 13.744443321656291\n"
     ]
    }
   ],
   "source": [
    "import pandas as pd\n",
    "import statistics as stats\n",
    "\n",
    "d = {\n",
    "    'Name':['Alisa','Bobby','Cathrine','Madonna','Rocky','Sebastian','Jaqluine',\n",
    "   'Rahul','David','Andrew','Ajay','Teresa'],\n",
    "   'Score1':[62,47,55,74,31,77,85,63,42,32,71,57],\n",
    "   'Score2':[89,87,67,55,47,72,76,79,44,92,99,69],\n",
    "   'Score3':[56,86,77,45,73,62,74,89,71,67,97,68]}\n",
    "\n",
    "data = pd.DataFrame(d)\n",
    "standard_daviation1 = stats.pstdev(data.loc[:,\"Score1\"])  \n",
    "print(\"Standard Daviation of Score1 :\",standard_daviation1)\n",
    "standard_daviation2 = stats.pstdev(data.loc[:,\"Score2\"]) \n",
    "print(\"Standard Daviation of Score2 :\",standard_daviation2)\n",
    "standard_daviation3 = stats.pstdev(data.loc[:,\"Score3\"]) \n",
    "print(\"Standard Daviation of Score3 :\",standard_daviation3)"
   ]
  },
  {
   "cell_type": "markdown",
   "metadata": {},
   "source": [
    "<font color=cyan>\n",
    "Q3 Below is the data for six students studying average hours in a day. Find the standard deviation for the data<br>\n",
    "x=[3,7,6,4,3,4]\n",
    "</font>"
   ]
  },
  {
   "cell_type": "code",
   "execution_count": 4,
   "metadata": {},
   "outputs": [
    {
     "name": "stdout",
     "output_type": "stream",
     "text": [
      "Standard Daviation of the given data is : 1.4142135623730951\n"
     ]
    }
   ],
   "source": [
    "import numpy as np\n",
    "import statistics as stats\n",
    "\n",
    "x = np.array([3,7,6,4,3,4])\n",
    "standard_daviation = stats.pstdev(x)\n",
    "print(\"Standard Daviation of the given data is :\",standard_daviation)"
   ]
  },
  {
   "cell_type": "markdown",
   "metadata": {},
   "source": [
    "<font color=cyan>\n",
    "Q4 Calculate variance() for the given list using the statistics module.<br>\n",
    "x=[4, 8, 6, 5, 3, 2, 8, 9, 2, 5]\n",
    "</font>"
   ]
  },
  {
   "cell_type": "code",
   "execution_count": 5,
   "metadata": {},
   "outputs": [
    {
     "name": "stdout",
     "output_type": "stream",
     "text": [
      "Variance of the given data is : 6\n"
     ]
    }
   ],
   "source": [
    "import numpy as np\n",
    "import statistics as stats\n",
    "\n",
    "x = np.array([4,8,6,5,3,2,8,9,2,5])\n",
    "variance = stats.variance(x)\n",
    "print(\"Variance of the given data is :\",variance)"
   ]
  },
  {
   "cell_type": "markdown",
   "metadata": {},
   "source": [
    "<font color=cyan>\n",
    "Q5 Write a code to that takes data from a sample and returns an estimation of the population standard deviation.<br>\n",
    "x=[4, 8, 6, 5, 3, 2, 8, 9, 2, 5]<br>\n",
    "Hint: stdev()\n",
    "</font>"
   ]
  },
  {
   "cell_type": "code",
   "execution_count": 7,
   "metadata": {},
   "outputs": [
    {
     "name": "stdout",
     "output_type": "stream",
     "text": [
      "Standard Daviation of the given data is : 2.449489742783178\n"
     ]
    }
   ],
   "source": [
    "import numpy as np\n",
    "import statistics as stats\n",
    "\n",
    "x = np.array([4, 8, 6, 5, 3, 2, 8, 9, 2, 5])\n",
    "standard_daviation = stats.stdev(x)\n",
    "print(\"Standard Daviation of the given data is :\",standard_daviation)"
   ]
  }
 ],
 "metadata": {
  "kernelspec": {
   "display_name": "Python 3 (ipykernel)",
   "language": "python",
   "name": "python3"
  },
  "language_info": {
   "codemirror_mode": {
    "name": "ipython",
    "version": 3
   },
   "file_extension": ".py",
   "mimetype": "text/x-python",
   "name": "python",
   "nbconvert_exporter": "python",
   "pygments_lexer": "ipython3",
   "version": "3.7.0"
  }
 },
 "nbformat": 4,
 "nbformat_minor": 2
}
