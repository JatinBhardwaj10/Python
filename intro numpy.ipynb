{
 "cells": [
  {
   "cell_type": "markdown",
   "id": "5fcdd51f",
   "metadata": {},
   "source": [
    "# Numpy Basic"
   ]
  },
  {
   "cell_type": "code",
   "execution_count": 1,
   "id": "dd230d9f",
   "metadata": {},
   "outputs": [],
   "source": [
    "import numpy as np"
   ]
  },
  {
   "cell_type": "code",
   "execution_count": 35,
   "id": "6e10c77c",
   "metadata": {},
   "outputs": [
    {
     "name": "stdout",
     "output_type": "stream",
     "text": [
      "1.21.6\n"
     ]
    }
   ],
   "source": [
    "print(np.__version__)"
   ]
  },
  {
   "cell_type": "code",
   "execution_count": 36,
   "id": "094f70f8",
   "metadata": {},
   "outputs": [
    {
     "name": "stdout",
     "output_type": "stream",
     "text": [
      "<class 'list'>\n"
     ]
    }
   ],
   "source": [
    "a = [10,20,30,45,23,67,34]\n",
    "print(type(a))"
   ]
  },
  {
   "cell_type": "code",
   "execution_count": 37,
   "id": "fe52e15b",
   "metadata": {},
   "outputs": [
    {
     "name": "stdout",
     "output_type": "stream",
     "text": [
      "<class 'numpy.ndarray'>\n"
     ]
    }
   ],
   "source": [
    "b = np.array(a)\n",
    "print(type(b)) #ndarray -> n dimentional array"
   ]
  },
  {
   "cell_type": "code",
   "execution_count": 38,
   "id": "90ca558f",
   "metadata": {},
   "outputs": [
    {
     "name": "stdout",
     "output_type": "stream",
     "text": [
      "[10 20 30 45 23 67 34]\n",
      "[10, 20, 30, 45, 23, 67, 34]\n"
     ]
    }
   ],
   "source": [
    "print(b)\n",
    "print(a)"
   ]
  },
  {
   "cell_type": "markdown",
   "id": "2d1cd0fa",
   "metadata": {},
   "source": [
    "[10 20 30 45 23 67 34] -> 1-d Array\n",
    "[[10 20 30] [40 50 60]] -> 2-d Array\n",
    "[[[1 2] [3 4]] [[5 7] [6 8]]] -> 3-d Array (image processing) n-d Array"
   ]
  },
  {
   "cell_type": "code",
   "execution_count": 39,
   "id": "34bdb53d",
   "metadata": {},
   "outputs": [
    {
     "name": "stdout",
     "output_type": "stream",
     "text": [
      "1\n"
     ]
    }
   ],
   "source": [
    "print(b.ndim)"
   ]
  },
  {
   "cell_type": "code",
   "execution_count": 40,
   "id": "a315a903",
   "metadata": {
    "scrolled": true
   },
   "outputs": [
    {
     "name": "stdout",
     "output_type": "stream",
     "text": [
      "2\n",
      "<class 'numpy.ndarray'>\n",
      "[[10 20 30]\n",
      " [40 50 60]]\n"
     ]
    }
   ],
   "source": [
    "d2arr = np.array([[10,20,30],[40,50,60]])\n",
    "print(d2arr.ndim)\n",
    "print(type(d2arr))\n",
    "print(d2arr)"
   ]
  },
  {
   "cell_type": "code",
   "execution_count": 44,
   "id": "2a1de4a8",
   "metadata": {},
   "outputs": [
    {
     "name": "stdout",
     "output_type": "stream",
     "text": [
      "5\n",
      "[[[[[10 20 30 45 23 67 34]]]]]\n"
     ]
    }
   ],
   "source": [
    "arr = np.array([10,20,30,45,23,67,34], ndmin=5)\n",
    "print(arr.ndim)\n",
    "print(arr)"
   ]
  },
  {
   "cell_type": "code",
   "execution_count": 54,
   "id": "a7539f6e",
   "metadata": {},
   "outputs": [
    {
     "name": "stdout",
     "output_type": "stream",
     "text": [
      "[ 20  43  65  78  90  12 342  65]\n"
     ]
    }
   ],
   "source": [
    "a = np.array([20,43,65,78,90,12,342,65])\n",
    "print(a)"
   ]
  },
  {
   "cell_type": "code",
   "execution_count": 48,
   "id": "c4cb4844",
   "metadata": {},
   "outputs": [
    {
     "name": "stdout",
     "output_type": "stream",
     "text": [
      "65\n",
      "342\n"
     ]
    }
   ],
   "source": [
    "#accessing ndarray elements using indexing\n",
    "print(a[2])\n",
    "print(a[-2])"
   ]
  },
  {
   "cell_type": "code",
   "execution_count": 49,
   "id": "57594b6c",
   "metadata": {
    "scrolled": true
   },
   "outputs": [
    {
     "name": "stdout",
     "output_type": "stream",
     "text": [
      "[[ 20  43]\n",
      " [ 65  78]\n",
      " [ 90  12]\n",
      " [342  65]]\n"
     ]
    }
   ],
   "source": [
    "a2 = np.array([[20,43],[65,78],[90,12],[342,65]])\n",
    "print(a2)"
   ]
  },
  {
   "cell_type": "code",
   "execution_count": 52,
   "id": "a0e97c74",
   "metadata": {},
   "outputs": [
    {
     "name": "stdout",
     "output_type": "stream",
     "text": [
      "342\n"
     ]
    }
   ],
   "source": [
    "print(a2[3,0])"
   ]
  },
  {
   "cell_type": "code",
   "execution_count": 56,
   "id": "3ad8625c",
   "metadata": {},
   "outputs": [
    {
     "name": "stdout",
     "output_type": "stream",
     "text": [
      "[43 65 78]\n"
     ]
    }
   ],
   "source": [
    "#accessing ndarray elements using slicing\n",
    "print(a[1:4])"
   ]
  },
  {
   "cell_type": "code",
   "execution_count": 57,
   "id": "db7fe2bc",
   "metadata": {},
   "outputs": [
    {
     "name": "stdout",
     "output_type": "stream",
     "text": [
      "[[65 78]\n",
      " [90 12]]\n"
     ]
    }
   ],
   "source": [
    "print(a2[1:3,:])"
   ]
  },
  {
   "cell_type": "code",
   "execution_count": 58,
   "id": "7ffaa6bd",
   "metadata": {},
   "outputs": [
    {
     "name": "stdout",
     "output_type": "stream",
     "text": [
      "int32\n"
     ]
    }
   ],
   "source": [
    "print(a2.dtype)"
   ]
  },
  {
   "cell_type": "code",
   "execution_count": 60,
   "id": "cdca4b38",
   "metadata": {},
   "outputs": [
    {
     "name": "stdout",
     "output_type": "stream",
     "text": [
      "int32\n"
     ]
    }
   ],
   "source": [
    "print(a.dtype)"
   ]
  },
  {
   "cell_type": "code",
   "execution_count": 61,
   "id": "64062334",
   "metadata": {},
   "outputs": [
    {
     "name": "stdout",
     "output_type": "stream",
     "text": [
      "float64\n"
     ]
    }
   ],
   "source": [
    "ab = np.array([1.0,9.4,8.6])\n",
    "print(ab.dtype)"
   ]
  },
  {
   "cell_type": "code",
   "execution_count": 62,
   "id": "5ac9183b",
   "metadata": {},
   "outputs": [
    {
     "name": "stdout",
     "output_type": "stream",
     "text": [
      "<U6\n"
     ]
    }
   ],
   "source": [
    "abc = np.array([\"hello\",\"world\",\"of\",'python'])\n",
    "print(abc.dtype)"
   ]
  },
  {
   "cell_type": "code",
   "execution_count": 65,
   "id": "ef895225",
   "metadata": {},
   "outputs": [
    {
     "name": "stdout",
     "output_type": "stream",
     "text": [
      "<U1\n"
     ]
    }
   ],
   "source": [
    "abcd = np.array([1,2,3,4], dtype='U')\n",
    "print(abcd.dtype)"
   ]
  },
  {
   "cell_type": "code",
   "execution_count": 66,
   "id": "f41f08ce",
   "metadata": {},
   "outputs": [
    {
     "name": "stdout",
     "output_type": "stream",
     "text": [
      "['1' '2' '3' '4']\n"
     ]
    }
   ],
   "source": [
    "print(abcd)"
   ]
  },
  {
   "cell_type": "code",
   "execution_count": 68,
   "id": "af234823",
   "metadata": {},
   "outputs": [
    {
     "name": "stdout",
     "output_type": "stream",
     "text": [
      "int64\n"
     ]
    }
   ],
   "source": [
    "abcd = np.array([1,2,3,4], dtype='i8')\n",
    "print(abcd.dtype)"
   ]
  },
  {
   "cell_type": "code",
   "execution_count": 70,
   "id": "a55f4049",
   "metadata": {},
   "outputs": [
    {
     "name": "stdout",
     "output_type": "stream",
     "text": [
      "int32\n"
     ]
    }
   ],
   "source": [
    "xyz = np.array([1,2,3,4])\n",
    "print(xyz.dtype)"
   ]
  },
  {
   "cell_type": "code",
   "execution_count": 71,
   "id": "6675daac",
   "metadata": {},
   "outputs": [
    {
     "name": "stdout",
     "output_type": "stream",
     "text": [
      "|S11\n"
     ]
    }
   ],
   "source": [
    "xyz1 = xyz.astype('S')\n",
    "print(xyz1.dtype)"
   ]
  },
  {
   "cell_type": "code",
   "execution_count": 73,
   "id": "e4b95e4a",
   "metadata": {},
   "outputs": [
    {
     "name": "stdout",
     "output_type": "stream",
     "text": [
      "[b'1' b'2' b'3' b'4']\n"
     ]
    }
   ],
   "source": [
    "print(xyz1)"
   ]
  },
  {
   "cell_type": "code",
   "execution_count": 75,
   "id": "8dcfc513",
   "metadata": {},
   "outputs": [
    {
     "name": "stdout",
     "output_type": "stream",
     "text": [
      "[1 2 3] [1 2 3]\n",
      "[100   2   3] [1 2 3]\n"
     ]
    }
   ],
   "source": [
    "\n",
    "a = np.array([1,2,3])\n",
    "b = a.copy()\n",
    "print(a,b)\n",
    "a[0] = 100\n",
    "print(a,b)"
   ]
  },
  {
   "cell_type": "code",
   "execution_count": 76,
   "id": "cb63ff1e",
   "metadata": {},
   "outputs": [
    {
     "name": "stdout",
     "output_type": "stream",
     "text": [
      "1\n",
      "(4,)\n"
     ]
    }
   ],
   "source": [
    "a = np.array([1,2,3,4])\n",
    "print(a.ndim)\n",
    "print(a.shape)"
   ]
  },
  {
   "cell_type": "code",
   "execution_count": 77,
   "id": "57801259",
   "metadata": {},
   "outputs": [
    {
     "name": "stdout",
     "output_type": "stream",
     "text": [
      "2\n",
      "(3, 2)\n"
     ]
    }
   ],
   "source": [
    "a = np.array([[1,2],[3,4],[10,90]])\n",
    "print(a.ndim)\n",
    "print(a.shape)"
   ]
  },
  {
   "cell_type": "code",
   "execution_count": 81,
   "id": "b15a7e8b",
   "metadata": {},
   "outputs": [
    {
     "name": "stdout",
     "output_type": "stream",
     "text": [
      "(10,)\n",
      "1\n"
     ]
    }
   ],
   "source": [
    "a = np.array([1,2,3,4,5,6,7,8,9,10])\n",
    "print(a.shape)\n",
    "print(a.ndim)"
   ]
  },
  {
   "cell_type": "code",
   "execution_count": 82,
   "id": "df1444cd",
   "metadata": {},
   "outputs": [
    {
     "name": "stdout",
     "output_type": "stream",
     "text": [
      "2\n",
      "(5, 2)\n"
     ]
    }
   ],
   "source": [
    "b = a.reshape(5,2)\n",
    "print(b.ndim)\n",
    "print(b.shape)"
   ]
  },
  {
   "cell_type": "code",
   "execution_count": 83,
   "id": "844208e1",
   "metadata": {},
   "outputs": [
    {
     "name": "stdout",
     "output_type": "stream",
     "text": [
      "[[ 1  2]\n",
      " [ 3  4]\n",
      " [ 5  6]\n",
      " [ 7  8]\n",
      " [ 9 10]]\n",
      "[ 1  2  3  4  5  6  7  8  9 10]\n"
     ]
    }
   ],
   "source": [
    "print(b)\n",
    "print(a)"
   ]
  },
  {
   "cell_type": "code",
   "execution_count": 84,
   "id": "9738bbab",
   "metadata": {},
   "outputs": [
    {
     "name": "stdout",
     "output_type": "stream",
     "text": [
      "1\n",
      "(10,)\n"
     ]
    }
   ],
   "source": [
    "c = b.reshape(-1) #flattening\n",
    "print(c.ndim)\n",
    "print(c.shape)"
   ]
  },
  {
   "cell_type": "code",
   "execution_count": 85,
   "id": "5ebfe42d",
   "metadata": {},
   "outputs": [
    {
     "name": "stdout",
     "output_type": "stream",
     "text": [
      "[ 1  2  3  4  5  6  7  8  9 10]\n"
     ]
    }
   ],
   "source": [
    "print(c)"
   ]
  },
  {
   "cell_type": "code",
   "execution_count": 2,
   "id": "d51d6976",
   "metadata": {
    "scrolled": true
   },
   "outputs": [
    {
     "name": "stdout",
     "output_type": "stream",
     "text": [
      "1\n",
      "2\n",
      "3\n",
      "4\n",
      "5\n",
      "6\n"
     ]
    }
   ],
   "source": [
    "a = np.array([1,2,3,4,5,6])\n",
    "for i in a:\n",
    "    print(i)"
   ]
  },
  {
   "cell_type": "code",
   "execution_count": 4,
   "id": "5cd6bfcc",
   "metadata": {},
   "outputs": [
    {
     "name": "stdout",
     "output_type": "stream",
     "text": [
      "1\n",
      "2\n",
      "3\n",
      "4\n",
      "5\n",
      "6\n"
     ]
    }
   ],
   "source": [
    "b = np.array([[1,2],[3,4],[5,6]])\n",
    "for i in b:\n",
    "    for j in i:\n",
    "        print(j)"
   ]
  },
  {
   "cell_type": "code",
   "execution_count": 5,
   "id": "21179300",
   "metadata": {},
   "outputs": [
    {
     "name": "stdout",
     "output_type": "stream",
     "text": [
      "[78 98 56 73 56 90 23 22 25 21 19 24]\n"
     ]
    }
   ],
   "source": [
    "marks = np.array([78,98,56,73,56,90])\n",
    "age = np.array([23,22,25,21,19,24])\n",
    "#concatenate() -> 1st arg (tuple of arrays), 2nd arg (axis=0,1 (0 is default)), returns a merged array\n",
    "res = np.concatenate((marks,age))\n",
    "print(res)"
   ]
  },
  {
   "cell_type": "code",
   "execution_count": 6,
   "id": "ba856afa",
   "metadata": {},
   "outputs": [
    {
     "ename": "AxisError",
     "evalue": "axis 1 is out of bounds for array of dimension 1",
     "output_type": "error",
     "traceback": [
      "\u001b[1;31m---------------------------------------------------------------------------\u001b[0m",
      "\u001b[1;31mAxisError\u001b[0m                                 Traceback (most recent call last)",
      "\u001b[1;32m~\\AppData\\Local\\Temp\\ipykernel_19400\\4057354674.py\u001b[0m in \u001b[0;36m<module>\u001b[1;34m\u001b[0m\n\u001b[1;32m----> 1\u001b[1;33m \u001b[0mres\u001b[0m \u001b[1;33m=\u001b[0m \u001b[0mnp\u001b[0m\u001b[1;33m.\u001b[0m\u001b[0mconcatenate\u001b[0m\u001b[1;33m(\u001b[0m\u001b[1;33m(\u001b[0m\u001b[0mmarks\u001b[0m\u001b[1;33m,\u001b[0m\u001b[0mage\u001b[0m\u001b[1;33m)\u001b[0m\u001b[1;33m,\u001b[0m \u001b[0maxis\u001b[0m\u001b[1;33m=\u001b[0m\u001b[1;36m1\u001b[0m\u001b[1;33m)\u001b[0m\u001b[1;33m\u001b[0m\u001b[0m\n\u001b[0m\u001b[0;32m      2\u001b[0m \u001b[0mprint\u001b[0m\u001b[1;33m(\u001b[0m\u001b[0mres\u001b[0m\u001b[1;33m)\u001b[0m\u001b[1;33m\u001b[0m\u001b[0m\n",
      "\u001b[1;32m<__array_function__ internals>\u001b[0m in \u001b[0;36mconcatenate\u001b[1;34m(*args, **kwargs)\u001b[0m\n",
      "\u001b[1;31mAxisError\u001b[0m: axis 1 is out of bounds for array of dimension 1"
     ]
    }
   ],
   "source": [
    "res = np.concatenate((marks,age), axis=1)\n",
    "print(res)"
   ]
  },
  {
   "cell_type": "code",
   "execution_count": 11,
   "id": "6ab27b44",
   "metadata": {},
   "outputs": [
    {
     "name": "stdout",
     "output_type": "stream",
     "text": [
      "[[78 98 23 22]\n",
      " [56 73 25 21]\n",
      " [56 90 19 24]]\n"
     ]
    }
   ],
   "source": [
    "marks = np.array([[78,98],[56,73],[56,90]])\n",
    "age = np.array([[23,22],[25,21],[19,24]])\n",
    "res = np.concatenate((marks,age), axis=1)\n",
    "print(res)"
   ]
  },
  {
   "cell_type": "code",
   "execution_count": 12,
   "id": "35dc11bc",
   "metadata": {},
   "outputs": [
    {
     "name": "stdout",
     "output_type": "stream",
     "text": [
      "[[78 98]\n",
      " [56 73]\n",
      " [56 90]\n",
      " [23 22]\n",
      " [25 21]\n",
      " [19 24]]\n"
     ]
    }
   ],
   "source": [
    "res = np.concatenate((marks,age))\n",
    "print(res)"
   ]
  },
  {
   "cell_type": "code",
   "execution_count": 16,
   "id": "82f69846",
   "metadata": {
    "scrolled": true
   },
   "outputs": [
    {
     "name": "stdout",
     "output_type": "stream",
     "text": [
      "[[78 98 56 73 56 90]\n",
      " [23 22 25 21 19 24]]\n",
      "2\n"
     ]
    }
   ],
   "source": [
    "marks = np.array([78,98,56,73,56,90])\n",
    "age = np.array([23,22,25,21,19,24])\n",
    "#stack() -> 1st arg (tuple of arrays), 2nd arg (axis=0,1 (0 is default)), returns a stacked array\n",
    "res = np.stack((marks,age))\n",
    "print(res)\n",
    "print(res.ndim)"
   ]
  },
  {
   "cell_type": "code",
   "execution_count": 17,
   "id": "107a4ee5",
   "metadata": {},
   "outputs": [
    {
     "name": "stdout",
     "output_type": "stream",
     "text": [
      "[[78 23]\n",
      " [98 22]\n",
      " [56 25]\n",
      " [73 21]\n",
      " [56 19]\n",
      " [90 24]]\n",
      "2\n"
     ]
    }
   ],
   "source": [
    "marks = np.array([78,98,56,73,56,90])\n",
    "age = np.array([23,22,25,21,19,24])\n",
    "#stack() -> 1st arg (tuple of arrays), 2nd arg (axis=0,1 (0 is default)), returns a stacked array\n",
    "res = np.stack((marks,age), axis=1)\n",
    "print(res)\n",
    "print(res.ndim)"
   ]
  },
  {
   "cell_type": "code",
   "execution_count": 21,
   "id": "d29a8034",
   "metadata": {},
   "outputs": [
    {
     "name": "stdout",
     "output_type": "stream",
     "text": [
      "[[[78 98]\n",
      "  [23 22]]\n",
      "\n",
      " [[56 73]\n",
      "  [25 21]]\n",
      "\n",
      " [[56 90]\n",
      "  [19 24]]]\n",
      "3\n"
     ]
    }
   ],
   "source": [
    "marks = np.array([[78,98],[56,73],[56,90]])\n",
    "age = np.array([[23,22],[25,21],[19,24]])\n",
    "res = np.stack((marks,age), axis = 1)\n",
    "print(res)\n",
    "print(res.ndim)"
   ]
  },
  {
   "cell_type": "code",
   "execution_count": 25,
   "id": "2c4e5ca9",
   "metadata": {},
   "outputs": [
    {
     "name": "stdout",
     "output_type": "stream",
     "text": [
      "[[[78]\n",
      "  [98]]\n",
      "\n",
      " [[56]\n",
      "  [73]]\n",
      "\n",
      " [[56]\n",
      "  [90]]]\n",
      "[[[78 23]\n",
      "  [98 22]]\n",
      "\n",
      " [[56 25]\n",
      "  [73 21]]\n",
      "\n",
      " [[56 19]\n",
      "  [90 24]]]\n"
     ]
    }
   ],
   "source": [
    "a3d = np.array([[[78],[98]],[[56],[73]],[[56],[90]]])\n",
    "b3d = np.array([[[23],[22]],[[25],[21]],[[19],[24]]])\n",
    "res = np.dstack((a3d,b3d))\n",
    "print(a3d)\n",
    "print(res)"
   ]
  },
  {
   "cell_type": "code",
   "execution_count": 26,
   "id": "6eae289f",
   "metadata": {},
   "outputs": [
    {
     "name": "stdout",
     "output_type": "stream",
     "text": [
      "[[[78]\n",
      "  [98]]\n",
      "\n",
      " [[56]\n",
      "  [73]]\n",
      "\n",
      " [[56]\n",
      "  [90]]\n",
      "\n",
      " [[23]\n",
      "  [22]]\n",
      "\n",
      " [[25]\n",
      "  [21]]\n",
      "\n",
      " [[19]\n",
      "  [24]]]\n"
     ]
    }
   ],
   "source": [
    "res = np.vstack((a3d,b3d))\n",
    "print(res)"
   ]
  },
  {
   "cell_type": "code",
   "execution_count": 36,
   "id": "4e773d74",
   "metadata": {},
   "outputs": [
    {
     "name": "stdout",
     "output_type": "stream",
     "text": [
      "[array([78, 98]), array([56, 73]), array([56, 34])]\n"
     ]
    }
   ],
   "source": [
    "marks = np.array([78,98,56,73,56,34])\n",
    "# array_split(arr, nos) -> arr (array to split), nos (number of split)\n",
    "res = np.array_split(marks, 3)\n",
    "print(res)"
   ]
  },
  {
   "cell_type": "code",
   "execution_count": 41,
   "id": "8c128386",
   "metadata": {},
   "outputs": [
    {
     "name": "stdout",
     "output_type": "stream",
     "text": [
      "[array([78, 98]), array([56, 73]), array([56])]\n"
     ]
    }
   ],
   "source": [
    "marks = np.array([78,98,56,73,56])\n",
    "res = np.array_split(marks, 3)\n",
    "print(res)"
   ]
  },
  {
   "cell_type": "code",
   "execution_count": 44,
   "id": "454ad9d3",
   "metadata": {},
   "outputs": [
    {
     "name": "stdout",
     "output_type": "stream",
     "text": [
      "[array([[78, 98]]), array([[56, 73]]), array([[56, 90]]), array([], shape=(0, 2), dtype=int32)]\n"
     ]
    }
   ],
   "source": [
    "marks = np.array([[78,98],[56,73],[56,90]])\n",
    "res = np.array_split(marks, 4)\n",
    "print(res)"
   ]
  },
  {
   "cell_type": "code",
   "execution_count": 53,
   "id": "51892fc4",
   "metadata": {},
   "outputs": [
    {
     "name": "stdout",
     "output_type": "stream",
     "text": [
      "(array([0, 1, 3, 6, 8], dtype=int64),)\n"
     ]
    }
   ],
   "source": [
    "marks = np.array([78,98,56,73,56,34,89,54,78])\n",
    "res = np.where(marks>=60)\n",
    "print(res)"
   ]
  },
  {
   "cell_type": "code",
   "execution_count": 52,
   "id": "010dbd05",
   "metadata": {},
   "outputs": [
    {
     "name": "stdout",
     "output_type": "stream",
     "text": [
      "[78 98 73]\n"
     ]
    }
   ],
   "source": [
    "# create a list of size of array\n",
    "# this list must contain only boolean values (True, False)\n",
    "# put True at those indexes where you want the output\n",
    "x = [True, True, False, True, False]\n",
    "res = marks[x]\n",
    "print(res)"
   ]
  },
  {
   "cell_type": "code",
   "execution_count": 56,
   "id": "63156b19",
   "metadata": {},
   "outputs": [
    {
     "name": "stdout",
     "output_type": "stream",
     "text": [
      "[56 56 34 54]\n"
     ]
    }
   ],
   "source": [
    "x = []\n",
    "for i in marks:\n",
    "    if i >= 30 and i<60:\n",
    "        x.append(True)\n",
    "    else:\n",
    "        x.append(False)\n",
    "res = marks[x]\n",
    "print(res)"
   ]
  },
  {
   "cell_type": "code",
   "execution_count": 55,
   "id": "d0deb30a",
   "metadata": {
    "scrolled": true
   },
   "outputs": [
    {
     "name": "stdout",
     "output_type": "stream",
     "text": [
      "[78 98 73 89 78]\n"
     ]
    }
   ],
   "source": [
    "res = marks[marks>=60]\n",
    "print(res)"
   ]
  },
  {
   "cell_type": "code",
   "execution_count": 51,
   "id": "e68293a7",
   "metadata": {},
   "outputs": [
    {
     "name": "stdout",
     "output_type": "stream",
     "text": [
      "[56 56 73 78 98]\n"
     ]
    }
   ],
   "source": [
    "res = np.sort(marks)\n",
    "print(res)"
   ]
  },
  {
   "cell_type": "code",
   "execution_count": 57,
   "id": "af003b7f",
   "metadata": {},
   "outputs": [
    {
     "name": "stdout",
     "output_type": "stream",
     "text": [
      "616\n"
     ]
    }
   ],
   "source": [
    "res = np.sum(marks)\n",
    "print(res)"
   ]
  },
  {
   "cell_type": "code",
   "execution_count": null,
   "id": "201c4e45",
   "metadata": {},
   "outputs": [],
   "source": []
  }
 ],
 "metadata": {
  "kernelspec": {
   "display_name": "Python 3 (ipykernel)",
   "language": "python",
   "name": "python3"
  },
  "language_info": {
   "codemirror_mode": {
    "name": "ipython",
    "version": 3
   },
   "file_extension": ".py",
   "mimetype": "text/x-python",
   "name": "python",
   "nbconvert_exporter": "python",
   "pygments_lexer": "ipython3",
   "version": "3.7.0"
  }
 },
 "nbformat": 4,
 "nbformat_minor": 5
}
