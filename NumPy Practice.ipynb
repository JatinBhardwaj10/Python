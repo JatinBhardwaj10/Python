{
 "cells": [
  {
   "cell_type": "code",
   "execution_count": 5,
   "id": "e12ae148",
   "metadata": {},
   "outputs": [],
   "source": [
    "import numpy as np"
   ]
  },
  {
   "cell_type": "code",
   "execution_count": 2,
   "id": "afe1c454",
   "metadata": {},
   "outputs": [
    {
     "data": {
      "text/plain": [
       "array([[1, 2, 3, 4]])"
      ]
     },
     "execution_count": 2,
     "metadata": {},
     "output_type": "execute_result"
    }
   ],
   "source": [
    "a = np.array([1,2,3,4],ndmin=2)\n",
    "a"
   ]
  },
  {
   "cell_type": "code",
   "execution_count": 3,
   "id": "93014fc4",
   "metadata": {},
   "outputs": [
    {
     "name": "stdout",
     "output_type": "stream",
     "text": [
      "[1 2 3 4 5 6 7 8]\n"
     ]
    }
   ],
   "source": [
    "b = np.array([1,2,3,4,5,6,7,8])\n",
    "print(b)"
   ]
  },
  {
   "cell_type": "code",
   "execution_count": 6,
   "id": "b2bc6a18",
   "metadata": {},
   "outputs": [
    {
     "name": "stdout",
     "output_type": "stream",
     "text": [
      "[4 5 6 7]\n"
     ]
    }
   ],
   "source": [
    "c = b[3:7]\n",
    "print(c)"
   ]
  },
  {
   "cell_type": "code",
   "execution_count": 9,
   "id": "fa91ec69",
   "metadata": {},
   "outputs": [
    {
     "name": "stdout",
     "output_type": "stream",
     "text": [
      "[ 1  2  3  4 -1]\n"
     ]
    }
   ],
   "source": [
    "d = np.array([[1,2,3,4,-1]])\n",
    "e = d.reshape(-1)\n",
    "print(e)"
   ]
  },
  {
   "cell_type": "code",
   "execution_count": 12,
   "id": "3572279c",
   "metadata": {},
   "outputs": [
    {
     "name": "stdout",
     "output_type": "stream",
     "text": [
      "1\n",
      "2\n",
      "3\n",
      "4\n",
      "-1\n"
     ]
    }
   ],
   "source": [
    "for i in d:\n",
    "    for j in i:\n",
    "        print(j)"
   ]
  },
  {
   "cell_type": "code",
   "execution_count": 13,
   "id": "0770697f",
   "metadata": {},
   "outputs": [
    {
     "name": "stdout",
     "output_type": "stream",
     "text": [
      "[1 2 3 4 5 5 6 7 8 9]\n"
     ]
    }
   ],
   "source": [
    "ab = np.array([1,2,3,4,5])\n",
    "ba = np.array([5,6,7,8,9])\n",
    "ca = np.concatenate((ab,ba)) #Horizontal concatenate,axis=0 by default\n",
    "print(ca)"
   ]
  },
  {
   "cell_type": "code",
   "execution_count": 15,
   "id": "98eb6c0d",
   "metadata": {},
   "outputs": [
    {
     "name": "stdout",
     "output_type": "stream",
     "text": [
      "[[1 2 3 4 5 5 6 7 8 9]]\n"
     ]
    }
   ],
   "source": [
    "ab = np.array([1,2,3,4,5],ndmin=2)\n",
    "ba = np.array([5,6,7,8,9],ndmin=2)\n",
    "ca = np.concatenate((ab,ba),axis=1)\n",
    "print(ca)"
   ]
  },
  {
   "cell_type": "code",
   "execution_count": 20,
   "id": "516e6ff2",
   "metadata": {},
   "outputs": [
    {
     "name": "stdout",
     "output_type": "stream",
     "text": [
      "[[ 1  2  5  6]\n",
      " [ 3  4  7  8]\n",
      " [ 5  6  9 10]]\n"
     ]
    }
   ],
   "source": [
    "ab = np.array([[1,2],[3,4],[5,6]])\n",
    "ba = np.array([[5,6],[7,8],[9,10]])\n",
    "ca = np.concatenate((ab,ba),axis=1) #Vertical concatenate,axis=1)\n",
    "print(ca)"
   ]
  },
  {
   "cell_type": "code",
   "execution_count": 17,
   "id": "59e8c060",
   "metadata": {},
   "outputs": [
    {
     "name": "stdout",
     "output_type": "stream",
     "text": [
      "[[1 2 3 4 5]\n",
      " [5 6 7 8 9]]\n"
     ]
    }
   ],
   "source": [
    "ab = np.array([1,2,3,4,5])\n",
    "ba = np.array([5,6,7,8,9])\n",
    "ca = np.stack((ab,ba)) # Horizontal stacking,axis=0 by default\n",
    "print(ca)"
   ]
  },
  {
   "cell_type": "code",
   "execution_count": 21,
   "id": "a77e3b54",
   "metadata": {},
   "outputs": [
    {
     "name": "stdout",
     "output_type": "stream",
     "text": [
      "[[1 5]\n",
      " [2 6]\n",
      " [3 7]\n",
      " [4 8]\n",
      " [5 9]]\n"
     ]
    }
   ],
   "source": [
    "ab = np.array([1,2,3,4,5])\n",
    "ba = np.array([5,6,7,8,9])\n",
    "ca = np.stack((ab,ba),axis=1) #vertical stacking,axis = 1 \n",
    "print(ca)"
   ]
  },
  {
   "cell_type": "code",
   "execution_count": 31,
   "id": "7cc61386",
   "metadata": {},
   "outputs": [
    {
     "name": "stdout",
     "output_type": "stream",
     "text": [
      "[[ 1  5 10]\n",
      " [ 2  6 20]\n",
      " [ 3  7 30]\n",
      " [ 4  8 40]\n",
      " [ 5  9 50]]\n"
     ]
    }
   ],
   "source": [
    "ab = np.array([1,2,3,4,5])\n",
    "ba = np.array([5,6,7,8,9])\n",
    "cb= np.array([10,20,30,40,50])\n",
    "ca = np.stack((ab,ba,cb),axis=1) #vertical stacking,axis = 1 \n",
    "print(ca)"
   ]
  },
  {
   "cell_type": "code",
   "execution_count": 32,
   "id": "17af32ae",
   "metadata": {},
   "outputs": [
    {
     "name": "stdout",
     "output_type": "stream",
     "text": [
      "[[[ 1  2]\n",
      "  [ 5  6]]\n",
      "\n",
      " [[ 3  4]\n",
      "  [ 7  8]]\n",
      "\n",
      " [[ 5  6]\n",
      "  [ 9 10]]]\n"
     ]
    }
   ],
   "source": [
    "ab = np.array([[1,2],[3,4],[5,6]])\n",
    "ba = np.array([[5,6],[7,8],[9,10]])\n",
    "ca = np.stack((ab,ba),axis=1)\n",
    "print(ca)"
   ]
  },
  {
   "cell_type": "code",
   "execution_count": 33,
   "id": "643df5e0",
   "metadata": {},
   "outputs": [
    {
     "name": "stdout",
     "output_type": "stream",
     "text": [
      "[[[ 1  2]\n",
      "  [ 3  4]\n",
      "  [ 5  6]]\n",
      "\n",
      " [[ 5  6]\n",
      "  [ 7  8]\n",
      "  [ 9 10]]]\n"
     ]
    }
   ],
   "source": [
    "ab = np.array([[1,2],[3,4],[5,6]])\n",
    "ba = np.array([[5,6],[7,8],[9,10]])\n",
    "ca = np.stack((ab,ba))\n",
    "print(ca)\n"
   ]
  },
  {
   "cell_type": "code",
   "execution_count": 35,
   "id": "d09e2265",
   "metadata": {},
   "outputs": [
    {
     "name": "stdout",
     "output_type": "stream",
     "text": [
      "[[[ 1  2]\n",
      "  [ 5  6]]\n",
      "\n",
      " [[ 3  4]\n",
      "  [ 7  8]]\n",
      "\n",
      " [[ 5  6]\n",
      "  [ 9 10]]]\n"
     ]
    }
   ],
   "source": [
    "ab = np.array([[1,2],[3,4],[5,6]])\n",
    "ba = np.array([[5,6],[7,8],[9,10]])\n",
    "ca = np.stack((ab,ba),axis=1)\n",
    "print(ca)"
   ]
  },
  {
   "cell_type": "code",
   "execution_count": 38,
   "id": "90505b91",
   "metadata": {},
   "outputs": [
    {
     "name": "stdout",
     "output_type": "stream",
     "text": [
      "[[[[ 1]\n",
      "   [ 2]]\n",
      "\n",
      "  [[ 3]\n",
      "   [ 4]]\n",
      "\n",
      "  [[ 5]\n",
      "   [ 6]]]\n",
      "\n",
      "\n",
      " [[[ 5]\n",
      "   [ 6]]\n",
      "\n",
      "  [[ 7]\n",
      "   [ 8]]\n",
      "\n",
      "  [[ 9]\n",
      "   [10]]]]\n"
     ]
    }
   ],
   "source": [
    "ab = np.array([[[1],[2]],[[3],[4]],[[5],[6]]])\n",
    "ba = np.array([[[5],[6]],[[7],[8]],[[9],[10]]])\n",
    "ca = np.stack((ab,ba))\n",
    "print(ca)"
   ]
  },
  {
   "cell_type": "code",
   "execution_count": 41,
   "id": "367d28fa",
   "metadata": {},
   "outputs": [
    {
     "name": "stdout",
     "output_type": "stream",
     "text": [
      "[[[ 1  5]\n",
      "  [ 2  6]]\n",
      "\n",
      " [[ 3  7]\n",
      "  [ 4  8]]\n",
      "\n",
      " [[ 5  9]\n",
      "  [ 6 10]]]\n"
     ]
    }
   ],
   "source": [
    "ab = np.array([[[1],[2]],[[3],[4]],[[5],[6]]])\n",
    "ba = np.array([[[5],[6]],[[7],[8]],[[9],[10]]])\n",
    "ca = np.dstack((ab,ba))\n",
    "print(ca)"
   ]
  },
  {
   "cell_type": "code",
   "execution_count": 42,
   "id": "dbe20b1b",
   "metadata": {},
   "outputs": [
    {
     "name": "stdout",
     "output_type": "stream",
     "text": [
      "[[[ 1]\n",
      "  [ 2]\n",
      "  [ 5]\n",
      "  [ 6]]\n",
      "\n",
      " [[ 3]\n",
      "  [ 4]\n",
      "  [ 7]\n",
      "  [ 8]]\n",
      "\n",
      " [[ 5]\n",
      "  [ 6]\n",
      "  [ 9]\n",
      "  [10]]]\n"
     ]
    }
   ],
   "source": [
    "ab = np.array([[[1],[2]],[[3],[4]],[[5],[6]]])\n",
    "ba = np.array([[[5],[6]],[[7],[8]],[[9],[10]]])\n",
    "ca = np.hstack((ab,ba))\n",
    "print(ca)\n"
   ]
  },
  {
   "cell_type": "code",
   "execution_count": 43,
   "id": "b46557f1",
   "metadata": {},
   "outputs": [
    {
     "name": "stdout",
     "output_type": "stream",
     "text": [
      "[[[ 1]\n",
      "  [ 2]]\n",
      "\n",
      " [[ 3]\n",
      "  [ 4]]\n",
      "\n",
      " [[ 5]\n",
      "  [ 6]]\n",
      "\n",
      " [[ 5]\n",
      "  [ 6]]\n",
      "\n",
      " [[ 7]\n",
      "  [ 8]]\n",
      "\n",
      " [[ 9]\n",
      "  [10]]]\n"
     ]
    }
   ],
   "source": [
    "ab = np.array([[[1],[2]],[[3],[4]],[[5],[6]]])\n",
    "ba = np.array([[[5],[6]],[[7],[8]],[[9],[10]]])\n",
    "ca = np.vstack((ab,ba))\n",
    "print(ca)"
   ]
  },
  {
   "cell_type": "code",
   "execution_count": 44,
   "id": "5f2e80b2",
   "metadata": {},
   "outputs": [
    {
     "name": "stdout",
     "output_type": "stream",
     "text": [
      "[[[[ 1]\n",
      "   [ 2]]\n",
      "\n",
      "  [[ 3]\n",
      "   [ 4]]\n",
      "\n",
      "  [[ 5]\n",
      "   [ 6]]]\n",
      "\n",
      "\n",
      " [[[ 5]\n",
      "   [ 6]]\n",
      "\n",
      "  [[ 7]\n",
      "   [ 8]]\n",
      "\n",
      "  [[ 9]\n",
      "   [10]]]]\n"
     ]
    }
   ],
   "source": [
    "ab = np.array([[[1],[2]],[[3],[4]],[[5],[6]]])\n",
    "ba = np.array([[[5],[6]],[[7],[8]],[[9],[10]]])\n",
    "ca = np.stack((ab,ba),axis=0)\n",
    "print(ca)"
   ]
  },
  {
   "cell_type": "code",
   "execution_count": 48,
   "id": "48b58804",
   "metadata": {},
   "outputs": [
    {
     "name": "stdout",
     "output_type": "stream",
     "text": [
      "[array([1]), array([2]), array([3]), array([4]), array([5]), array([6])]\n"
     ]
    }
   ],
   "source": [
    "a = np.array([1,2,3,4,5,6])\n",
    "b = np.array_split(a,6) # array_split(variable,split_no.)\n",
    "print(b)"
   ]
  },
  {
   "cell_type": "code",
   "execution_count": 49,
   "id": "3f685409",
   "metadata": {},
   "outputs": [
    {
     "name": "stdout",
     "output_type": "stream",
     "text": [
      "[array([1, 2]), array([3, 4]), array([5]), array([6])]\n"
     ]
    }
   ],
   "source": [
    "a = np.array([1,2,3,4,5,6])\n",
    "b = np.array_split(a,4) # array_split(variable,split_no.)\n",
    "print(b)"
   ]
  },
  {
   "cell_type": "code",
   "execution_count": 52,
   "id": "8601b987",
   "metadata": {},
   "outputs": [
    {
     "name": "stdout",
     "output_type": "stream",
     "text": [
      "[array([[1, 2]]), array([[3, 4]]), array([[5, 6]]), array([], shape=(0, 2), dtype=int32)] \n",
      "\n",
      "[array([[5, 6]]), array([[7, 8]]), array([[ 9, 10]])] \n",
      "\n",
      "[array([[5, 6],\n",
      "       [7, 8]]), array([[ 9, 10]])] \n",
      "\n"
     ]
    }
   ],
   "source": [
    "ab = np.array([[1,2],[3,4],[5,6]])\n",
    "ba = np.array([[5,6],[7,8],[9,10]])\n",
    "cx = np.array_split(ab,4)\n",
    "print(cx,\"\\n\")\n",
    "dx = np.array_split(ba,3)\n",
    "print(dx,\"\\n\")\n",
    "zc = np.array_split(ba,2)\n",
    "print(zc,\"\\n\")"
   ]
  },
  {
   "cell_type": "code",
   "execution_count": 53,
   "id": "29d25fde",
   "metadata": {},
   "outputs": [
    {
     "name": "stdout",
     "output_type": "stream",
     "text": [
      "(array([3, 4, 6], dtype=int64),)\n"
     ]
    }
   ],
   "source": [
    "a = np.array([1,2,3,4,5,3,6])\n",
    "b = np.where(a>3)\n",
    "print(b)\n"
   ]
  },
  {
   "cell_type": "code",
   "execution_count": 54,
   "id": "fc0dd0bf",
   "metadata": {},
   "outputs": [
    {
     "data": {
      "text/plain": [
       "array([1, 2, 3, 3, 4, 5, 6])"
      ]
     },
     "execution_count": 54,
     "metadata": {},
     "output_type": "execute_result"
    }
   ],
   "source": [
    "a = np.array([1,2,3,4,5,3,6])\n",
    "b = np.sort(a)\n",
    "b"
   ]
  },
  {
   "cell_type": "code",
   "execution_count": 59,
   "id": "55b7c558",
   "metadata": {},
   "outputs": [
    {
     "name": "stdout",
     "output_type": "stream",
     "text": [
      "[1 3 4 3 6]\n"
     ]
    }
   ],
   "source": [
    "a = np.array([1,2,3,4,5,3,6])\n",
    "b = [True,False,True,True,False,True,True]\n",
    "res = a[b]\n",
    "print(res)\n",
    "# This is a static approach"
   ]
  },
  {
   "cell_type": "code",
   "execution_count": 62,
   "id": "62ec44d0",
   "metadata": {},
   "outputs": [
    {
     "name": "stdout",
     "output_type": "stream",
     "text": [
      "[4 5 6]\n"
     ]
    }
   ],
   "source": [
    "x = []\n",
    "for i in a:\n",
    "    if i>3:\n",
    "        x.append(True)\n",
    "    else:\n",
    "        x.append(False)\n",
    "res = a[x]\n",
    "print(res)\n",
    "# Now this is dynamic approach\n",
    " "
   ]
  },
  {
   "cell_type": "code",
   "execution_count": 64,
   "id": "6885eef9",
   "metadata": {},
   "outputs": [
    {
     "name": "stdout",
     "output_type": "stream",
     "text": [
      "[4 5 6]\n"
     ]
    }
   ],
   "source": [
    "res = a[a>3]\n",
    "print(res)\n",
    "# This is a shortcut for small conditions"
   ]
  },
  {
   "cell_type": "code",
   "execution_count": 82,
   "id": "8149256b",
   "metadata": {},
   "outputs": [
    {
     "name": "stdout",
     "output_type": "stream",
     "text": [
      "15\n"
     ]
    }
   ],
   "source": [
    "v = np.array([1,2,3,4,5])\n",
    "ast = 0\n",
    "for i in range(len(v)):\n",
    "    ast += v[i]\n",
    "print(ast)"
   ]
  },
  {
   "cell_type": "code",
   "execution_count": 4,
   "id": "2ee84278",
   "metadata": {},
   "outputs": [
    {
     "name": "stdout",
     "output_type": "stream",
     "text": [
      "[0 0 3 4 5]\n"
     ]
    }
   ],
   "source": [
    "# Question 1\n",
    "import numpy as np\n",
    "a = np.array([-1,-2,3,4,5])\n",
    "a[a<0]=0\n",
    "print(a)"
   ]
  },
  {
   "cell_type": "code",
   "execution_count": 7,
   "id": "e1652498",
   "metadata": {},
   "outputs": [
    {
     "name": "stdout",
     "output_type": "stream",
     "text": [
      "[[10 40]\n",
      " [20 50]\n",
      " [30 60]]\n"
     ]
    }
   ],
   "source": [
    "a = np.array([10,20,30])\n",
    "b = np.array([40,50,60])\n",
    "c = np.stack((a,b),axis=1)\n",
    "print(c)"
   ]
  },
  {
   "cell_type": "code",
   "execution_count": null,
   "id": "a140f8d6",
   "metadata": {},
   "outputs": [],
   "source": []
  }
 ],
 "metadata": {
  "kernelspec": {
   "display_name": "Python 3 (ipykernel)",
   "language": "python",
   "name": "python3"
  },
  "language_info": {
   "codemirror_mode": {
    "name": "ipython",
    "version": 3
   },
   "file_extension": ".py",
   "mimetype": "text/x-python",
   "name": "python",
   "nbconvert_exporter": "python",
   "pygments_lexer": "ipython3",
   "version": "3.7.0"
  }
 },
 "nbformat": 4,
 "nbformat_minor": 5
}
