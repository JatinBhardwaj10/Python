{
 "cells": [
  {
   "cell_type": "code",
   "execution_count": 1,
   "metadata": {},
   "outputs": [],
   "source": [
    "%matplotlib inline"
   ]
  },
  {
   "cell_type": "code",
   "execution_count": 2,
   "metadata": {},
   "outputs": [],
   "source": [
    "import numpy as np \n",
    "import pandas as pd\n",
    "import seaborn as sns\n",
    "import scipy.stats as stats\n",
    "import statistics as stat\n",
    "import matplotlib.pyplot as plt"
   ]
  },
  {
   "cell_type": "markdown",
   "metadata": {},
   "source": [
    "<font color=cyan>\n",
    "Q1  Write a python code to perform outlier detection using box plot, missing value analysis using python<br>\n",
    "functions and treat them using descriptive measures.\n",
    "</font>"
   ]
  },
  {
   "cell_type": "code",
   "execution_count": 3,
   "metadata": {},
   "outputs": [
    {
     "data": {
      "image/png": "[encoded data removed]",
      "text/plain": [
       "<Figure size 640x480 with 1 Axes>"
      ]
     },
     "metadata": {},
     "output_type": "display_data"
    },
    {
     "name": "stdout",
     "output_type": "stream",
     "text": [
      "<class 'pandas.core.frame.DataFrame'>\n",
      "RangeIndex: 33 entries, 0 to 32\n",
      "Data columns (total 1 columns):\n",
      " #   Column  Non-Null Count  Dtype  \n",
      "---  ------  --------------  -----  \n",
      " 0   0       32 non-null     float64\n",
      "dtypes: float64(1)\n",
      "memory usage: 392.0 bytes\n",
      "None\n",
      "        0\n",
      "0   10.00\n",
      "1   14.00\n",
      "2   13.00\n",
      "3   19.00\n",
      "4    8.00\n",
      "5   10.00\n",
      "6    8.00\n",
      "7    9.00\n",
      "8    4.00\n",
      "9   15.00\n",
      "10  18.00\n",
      "11  17.00\n",
      "12   7.00\n",
      "13  16.00\n",
      "14  13.00\n",
      "15  15.00\n",
      "16   6.00\n",
      "17   1.00\n",
      "18   4.00\n",
      "19  17.00\n",
      "20  13.00\n",
      "21  10.00\n",
      "22  16.00\n",
      "23   2.00\n",
      "24   1.00\n",
      "25   8.00\n",
      "26  10.00\n",
      "27   2.00\n",
      "28   2.00\n",
      "29  16.00\n",
      "30  50.00\n",
      "31  70.00\n",
      "32  13.25\n"
     ]
    }
   ],
   "source": [
    "data = np.random.randint(1, 20, size=30)\n",
    "data_up = pd.DataFrame(np.append(data, [50, 70, np.nan]))\n",
    "\n",
    "sns.boxplot(data_up)\n",
    "plt.show()\n",
    "\n",
    "print(data_up.info())\n",
    "\n",
    "print(data_up.fillna(data_up.mean()))"
   ]
  },
  {
   "cell_type": "markdown",
   "metadata": {},
   "source": [
    "<font color=redvoilet>\n",
    "Q2 Write a program to generate univariate distribution and find its mean and standard deviation.\n",
    "</font>"
   ]
  },
  {
   "cell_type": "code",
   "execution_count": 4,
   "metadata": {},
   "outputs": [
    {
     "name": "stdout",
     "output_type": "stream",
     "text": [
      "0.026676615719283724 0.9853998509558434\n"
     ]
    }
   ],
   "source": [
    "data_up = np.random.randn(1000)\n",
    "mean = data_up.mean()\n",
    "STD = data_up.std()\n",
    "print(mean,STD)"
   ]
  },
  {
   "cell_type": "markdown",
   "metadata": {},
   "source": [
    "<font color=cyan>\n",
    "Q3 Write a program to identify outliers in the data using standard deviations.\n",
    "</font>"
   ]
  },
  {
   "cell_type": "code",
   "execution_count": 5,
   "metadata": {},
   "outputs": [
    {
     "name": "stdout",
     "output_type": "stream",
     "text": [
      "[10 15  1  9 18 12 19 17  9  8 14  8  7  6 17 11 10 13  3  7 15 10 19 17\n",
      " 17  9  5 19 18  6 50 70]\n",
      "[70]\n"
     ]
    }
   ],
   "source": [
    "data = np.random.randint(1, 20, size=30)\n",
    "data_up = np.append(data, [50, 70])\n",
    "\n",
    "print(data_up)\n",
    "\n",
    "STD3 = 3\n",
    "mean = np.mean(data_up)\n",
    "STD = np.std(data_up)\n",
    "\n",
    "outliers = []\n",
    "\n",
    "for i in data_up:\n",
    "    z_score = (i-mean)/STD\n",
    "    if np.abs(z_score) > STD3:\n",
    "            outliers.append(i)\n",
    "print(outliers)"
   ]
  },
  {
   "cell_type": "markdown",
   "metadata": {},
   "source": [
    "<font color=cyan>\n",
    "Q4 Write a program to remove the outliers using standard deviation.\n",
    "</font>"
   ]
  },
  {
   "cell_type": "code",
   "execution_count": 6,
   "metadata": {},
   "outputs": [
    {
     "name": "stdout",
     "output_type": "stream",
     "text": [
      "[ 3 10 15  4 15 15 14 12  5  1 11 19  1 17 19 10 17 10  9 10 12 16 17  9\n",
      " 17 19  7 11 18  3 50 70]\n",
      "[70]\n",
      "[ 3 10 15  4 15 15 14 12  5  1 11 19  1 17 19 10 17 10  9 10 12 16 17  9\n",
      " 17 19  7 11 18  3 50]\n"
     ]
    }
   ],
   "source": [
    "data = np.random.randint(1, 20, size=30)\n",
    "data_up = np.append(data, [50, 70])\n",
    "\n",
    "print(data_up)\n",
    "\n",
    "STD3 = 3\n",
    "mean = np.mean(data_up)\n",
    "STD = np.std(data_up)\n",
    "\n",
    "outliers = []\n",
    "\n",
    "for i in data_up:\n",
    "    z_score = (i-mean)/STD\n",
    "    if np.abs(z_score) > STD3:\n",
    "            outliers.append(i)\n",
    "print(outliers)\n",
    "\n",
    "indx = np.where(data_up == outliers)[0]\n",
    "final_data = np.delete(data_up,indx)\n",
    "print(final_data)"
   ]
  },
  {
   "cell_type": "markdown",
   "metadata": {},
   "source": [
    "<font color=cyan>\n",
    "Q5 Write a program to find the interquartile range of the data.\n",
    "</font>"
   ]
  },
  {
   "cell_type": "code",
   "execution_count": 7,
   "metadata": {},
   "outputs": [
    {
     "name": "stdout",
     "output_type": "stream",
     "text": [
      "[13 10 18 17  7  7  7  7 19 14  8  8 15  5  2  6  3 12  4  5 12  3 13 10\n",
      "  6 18 11  9  1 17 50 70]\n",
      "8.25\n"
     ]
    }
   ],
   "source": [
    "data = np.random.randint(1, 20, size=30)\n",
    "data_up = np.append(data, [50, 70])\n",
    "print(data_up)\n",
    "\n",
    "data_up = sorted(data_up)\n",
    "\n",
    "q1 = np.percentile(data_up, 25)\n",
    "q3 = np.percentile(data_up, 75)\n",
    "\n",
    "IQR = q3 - q1\n",
    "print(IQR)"
   ]
  },
  {
   "cell_type": "markdown",
   "metadata": {},
   "source": [
    "<font color=cyan>\n",
    "Q6 Write a program to calculate outlier cutoff.\n",
    "</font>"
   ]
  },
  {
   "cell_type": "code",
   "execution_count": 8,
   "metadata": {},
   "outputs": [
    {
     "name": "stdout",
     "output_type": "stream",
     "text": [
      "[18  3 11  6 12 15  2 13  5  5  5 10  6  4  6 15 18 10 17 19 19  9 15 14\n",
      "  9  5  5 11 16  9 50 70]\n",
      "-8.5 29.5\n"
     ]
    }
   ],
   "source": [
    "data = np.random.randint(1, 20, size=30)\n",
    "data_up = np.append(data, [50, 70])\n",
    "print(data_up)\n",
    "\n",
    "data_up = sorted(data_up)\n",
    "\n",
    "q1 = np.percentile(data_up, 25)\n",
    "q3 = np.percentile(data_up, 75)\n",
    "\n",
    "IQR = q3 - q1\n",
    "\n",
    "lwl = q1-(1.5*IQR)\n",
    "upl = q3+(1.5*IQR)\n",
    "\n",
    "print(lwl, upl)"
   ]
  },
  {
   "cell_type": "markdown",
   "metadata": {},
   "source": [
    "<font color=cyan>\n",
    "Q7 Write a program to identify outliers and remove them using IQR.\n",
    "</font>"
   ]
  },
  {
   "cell_type": "code",
   "execution_count": 9,
   "metadata": {},
   "outputs": [
    {
     "name": "stdout",
     "output_type": "stream",
     "text": [
      "[15 10 15  5  4 14 10  6  2 16  5  6 16  5 10 17  9  8  6  2  5  5  1 12\n",
      " 10 19 14  9 18  8 50 70]\n",
      "-10.0 30.0\n",
      "[50, 70]\n",
      "[ 1  2  2  4  5  5  5  5  5  6  6  6  8  8  9  9 10 10 10 10 12 14 14 15\n",
      " 15 16 16 17 18 19]\n"
     ]
    }
   ],
   "source": [
    "data = np.random.randint(1, 20, size=30)\n",
    "data_up = np.append(data, [50, 70])\n",
    "print(data_up)\n",
    "\n",
    "data_up = sorted(data_up)\n",
    "\n",
    "q1 = np.percentile(data_up, 25)\n",
    "q3 = np.percentile(data_up, 75)\n",
    "\n",
    "IQR = q3 - q1\n",
    "\n",
    "lwl = q1-(1.5*IQR)\n",
    "upl = q3+(1.5*IQR)\n",
    "\n",
    "print(lwl, upl)\n",
    "\n",
    "outliers = []\n",
    "for i in data_up:\n",
    "    if (i<lwl or i>upl):\n",
    "        outliers.append(i)\n",
    "print(outliers)\n",
    "\n",
    "indx = []\n",
    "for i in outliers:\n",
    "    z = np.where(data_up == i)[0]\n",
    "    indx.append(z)\n",
    "\n",
    "final_data = np.delete(data_up, indx)\n",
    "print(final_data)"
   ]
  },
  {
   "cell_type": "markdown",
   "metadata": {},
   "source": [
    "<font color=cyan>\n",
    "Q8 write a program to generate a sample array and calculate the mean,median,mode,std dev.\n",
    "</font>"
   ]
  },
  {
   "cell_type": "code",
   "execution_count": 10,
   "metadata": {},
   "outputs": [
    {
     "name": "stdout",
     "output_type": "stream",
     "text": [
      "9.4\n",
      "8.5\n",
      "5\n",
      "5.564171097297422\n"
     ]
    }
   ],
   "source": [
    "data = np.random.randint(1, 20, size=50)\n",
    "\n",
    "print(np.mean(data))\n",
    "print(np.median(data))\n",
    "print(stat.mode(data))\n",
    "print(np.std(data))"
   ]
  },
  {
   "cell_type": "markdown",
   "metadata": {},
   "source": [
    "<font color=redvoilet>\n",
    "Q9 Write a program to print skewness of the sample.\n",
    "</font>"
   ]
  },
  {
   "cell_type": "code",
   "execution_count": 11,
   "metadata": {},
   "outputs": [
    {
     "name": "stdout",
     "output_type": "stream",
     "text": [
      "-0.026249828409934596\n"
     ]
    }
   ],
   "source": [
    "data = np.random.randint(1, 20, size=50)\n",
    "\n",
    "skew = stats.skew(data)\n",
    "print(skew)"
   ]
  },
  {
   "cell_type": "markdown",
   "metadata": {},
   "source": [
    "<font color=cyan>\n",
    "Q10 Write a Program to print Histogram and distribution plot of the sample.\n",
    "</font>"
   ]
  },
  {
   "cell_type": "code",
   "execution_count": 12,
   "metadata": {},
   "outputs": [
    {
     "data": {
      "image/png": "[encoded data removed]",
      "text/plain": [
       "<Figure size 640x480 with 1 Axes>"
      ]
     },
     "metadata": {},
     "output_type": "display_data"
    }
   ],
   "source": [
    "n_bins = 20\n",
    "data = np.random.normal(170, 10, 200)\n",
    "\n",
    "sns.histplot(data, bins = n_bins, kde=True)\n",
    "plt.show()"
   ]
  },
  {
   "cell_type": "markdown",
   "metadata": {},
   "source": [
    "<font color=cyan>\n",
    "Q11 Define the function generate_scores() that returns a normally-distributed dataset of student scores containing 200 records. We’ll make a call to the function, and store the returned array in the variable scores_data.\n",
    "</font>"
   ]
  },
  {
   "cell_type": "code",
   "execution_count": 13,
   "metadata": {},
   "outputs": [
    {
     "name": "stdout",
     "output_type": "stream",
     "text": [
      "[46.73586666 39.19753874 34.69328057 62.20207265 46.23897088 27.62426259\n",
      " 52.92953572 60.33733953 57.01733843 44.10283041 39.57510079 34.07757825\n",
      " 38.61747238 62.18266556 44.93254271 59.28330156 60.94925364 50.62392678\n",
      " 46.98882238 46.96586452 43.53819575 49.95013756 48.10535691 56.54249959\n",
      " 28.59020801 52.39084624 37.22759323 48.15427576 49.97893281 68.13240137\n",
      " 54.9080887  47.8574284  32.24517754 59.67692298 50.88086488 38.33001472\n",
      " 45.34546145 44.04510807 58.06074997 41.72538146 49.86124328 38.85011509\n",
      " 48.9529588  64.10575919 46.04830577 58.19083204 47.00434379 45.6435575\n",
      " 47.39647384 52.59622624 51.66384585 57.02201622 68.3568199  41.73594404\n",
      " 63.80704705 67.23527399 59.58915297 45.63332594 40.6605011  53.62784189\n",
      " 45.06464605 54.78610063 25.46546581 61.46527148 52.80342383 31.81408203\n",
      " 49.23726268 49.75422271 61.06299838 54.4172881  56.22515456 54.26382669\n",
      " 43.2374859  34.27186799 50.85083178 46.36217757 56.4378834  60.08841429\n",
      " 52.69771301 40.74070106 38.45772106 45.51159432 46.19236236 52.02902344\n",
      " 60.40749615 51.86115577 50.64780116 51.05704288 51.90641486 32.50709217\n",
      " 42.66573078 48.30436992 52.35930772 43.97523954 34.92848791 39.30666528\n",
      " 41.6696741  32.77952271 42.45859323 56.25775168 44.34807334 53.54980739\n",
      " 55.07779597 65.47159002 37.91500141 65.71856018 44.23213496 66.5217407\n",
      " 43.41729132 50.50631233 56.94452223 34.88051528 56.0272912  68.88949004\n",
      " 47.03268336 41.51594825 58.09156272 33.62860177 57.13634195 47.4108244\n",
      " 69.21007467 38.78409389 41.84623673 41.71082086 41.88757287 49.96053288\n",
      " 49.44463487 46.62063083 53.29594005 60.84403775 49.19324102 60.27424093\n",
      " 42.2225596  66.54276086 43.86403732 48.05006146 43.76241117 61.47853581\n",
      " 51.19341575 58.96614375 57.7097686  63.88657721 39.36388233 51.11027428\n",
      " 42.18764295 52.61407003 55.50479608 45.54677721 40.35358295 58.81656879\n",
      " 44.07795904 50.49522331 35.80416533 45.69961838 54.1201048  40.90144251\n",
      " 49.77362653 38.60257108 54.06260246 43.0079932  43.90996768 32.85995362\n",
      " 61.80788499 45.96326867 49.44122768 65.05815634 41.95416531 41.56494319\n",
      " 57.95817373 55.50755463 41.69368741 53.64045117 60.06619767 38.31369134\n",
      " 47.12604005 43.96512556 37.07085781 63.4563805  52.37717286 61.47307453\n",
      " 53.01719655 31.92549626 40.79879132 56.0942232  51.43709866 34.3745683\n",
      " 62.30968513 30.66330594 61.44185547 48.15749583 40.77749505 41.37444445\n",
      " 56.16760189 46.36023818 51.31281221 55.88680933 48.52377432 65.13230231\n",
      " 55.35927966 42.49410322]\n"
     ]
    }
   ],
   "source": [
    "def generate_scores():\n",
    "    \"\"\"\n",
    "    This function generates the normally-distributed scores containing of 200 records.\n",
    "\n",
    "    Returns:\n",
    "        ndarray: It returns the numpy array containing the 200 recordsof students scores.\n",
    "    \"\"\"\n",
    "    \n",
    "    data = np.random.normal(50, 10, 200)\n",
    "    return data\n",
    "\n",
    "scores_data = (generate_scores())\n",
    "print(scores_data)"
   ]
  },
  {
   "cell_type": "markdown",
   "metadata": {},
   "source": [
    "<font color=cyan>\n",
    "Q12 Write a program to visualize the scores_data distribution also generate boxplot.\n",
    "</font>"
   ]
  },
  {
   "cell_type": "code",
   "execution_count": 14,
   "metadata": {},
   "outputs": [
    {
     "data": {
      "image/png": "[encoded data removed]",
      "text/plain": [
       "<Figure size 640x480 with 2 Axes>"
      ]
     },
     "metadata": {},
     "output_type": "display_data"
    }
   ],
   "source": [
    "def generate_scores():\n",
    "    \"\"\"\n",
    "    This function generates the normally-distributed scores containing of 200 records.\n",
    "\n",
    "    Returns:\n",
    "        ndarray: It returns the numpy array containing the 200 recordsof students scores.\n",
    "    \"\"\"\n",
    "    \n",
    "    data = np.random.normal(50, 10, 200)\n",
    "    return data\n",
    "\n",
    "scores_data = (generate_scores())\n",
    "\n",
    "plt.subplot(1,2,1)\n",
    "sns.histplot(scores_data, kde=True)\n",
    "\n",
    "plt.subplot(1,2,2)\n",
    "sns.boxplot(scores_data)\n",
    "\n",
    "plt.show()"
   ]
  },
  {
   "cell_type": "markdown",
   "metadata": {},
   "source": [
    "<font color=cyan>\n",
    "Q13 Load scores_data into pandas dataFrame and calculate mean and standard deviation.\n",
    "</font>"
   ]
  },
  {
   "cell_type": "code",
   "execution_count": 15,
   "metadata": {},
   "outputs": [
    {
     "name": "stdout",
     "output_type": "stream",
     "text": [
      "0    49.42958\n",
      "dtype: float64\n",
      "0    9.488003\n",
      "dtype: float64\n"
     ]
    }
   ],
   "source": [
    "def generate_scores():\n",
    "    \"\"\"\n",
    "    This function generates the normally-distributed scores containing of 200 records.\n",
    "\n",
    "    Returns:\n",
    "        ndarray: It returns the numpy array containing the 200 recordsof students scores.\n",
    "    \"\"\"\n",
    "    \n",
    "    data = np.random.normal(50, 10, 200)\n",
    "    return data\n",
    "\n",
    "scores_data = pd.DataFrame(generate_scores())\n",
    "print(scores_data.mean())\n",
    "print(scores_data.std())"
   ]
  },
  {
   "cell_type": "markdown",
   "metadata": {},
   "source": [
    "<font color=cyan>\n",
    "Q14 Write a program to set the lower limit (lower_limit) to be three standard deviations below the mean, and the upper limit (upper_limit) to be three standard deviations above the mean.\n",
    "</font>"
   ]
  },
  {
   "cell_type": "code",
   "execution_count": 16,
   "metadata": {},
   "outputs": [
    {
     "name": "stdout",
     "output_type": "stream",
     "text": [
      "17.929674493566857 80.25572003059568\n"
     ]
    }
   ],
   "source": [
    "def generate_scores():\n",
    "    \"\"\"\n",
    "    This function generates the normally-distributed scores containing of 200 records.\n",
    "\n",
    "    Returns:\n",
    "        ndarray: It returns the numpy array containing the 200 recordsof students scores.\n",
    "    \"\"\"\n",
    "    \n",
    "    data = np.random.normal(50, 10, 200)\n",
    "    return data\n",
    "\n",
    "scores_data = generate_scores()\n",
    "\n",
    "mean = scores_data.mean()\n",
    "STD = scores_data.std()\n",
    "\n",
    "lower_limit = mean - (3*STD)\n",
    "upper_limit = mean + (3*STD)\n",
    "\n",
    "print(lower_limit, upper_limit)\n"
   ]
  },
  {
   "cell_type": "markdown",
   "metadata": {},
   "source": [
    "<font color=redvoilet>\n",
    "Q15 Write a program to filter the dataframe df_scores to only retain the data points in the interval [lower_limit, upper_limit]\n",
    "</font>"
   ]
  },
  {
   "cell_type": "code",
   "execution_count": 17,
   "metadata": {},
   "outputs": [
    {
     "name": "stdout",
     "output_type": "stream",
     "text": [
      "     Students_Scores\n",
      "0          60.228107\n",
      "1          50.575012\n",
      "2          53.521037\n",
      "3          36.366579\n",
      "4          54.741642\n",
      "..               ...\n",
      "195        57.774324\n",
      "196        40.069003\n",
      "197        60.009217\n",
      "198        48.449514\n",
      "199        53.639356\n",
      "\n",
      "[200 rows x 1 columns]\n"
     ]
    }
   ],
   "source": [
    "def generate_scores():\n",
    "    \"\"\"\n",
    "    This function generates the normally-distributed scores containing of 200 records.\n",
    "\n",
    "    Returns:\n",
    "        ndarray: It returns the numpy array containing the 200 records of student scores.\n",
    "    \"\"\"\n",
    "    \n",
    "    data = np.random.normal(50, 10, 200)\n",
    "    return data\n",
    "\n",
    "df_scores = pd.DataFrame(generate_scores(), columns=[\"Students_Scores\"])\n",
    "\n",
    "mean = df_scores[\"Students_Scores\"].mean()\n",
    "STD = df_scores[\"Students_Scores\"].std()\n",
    "\n",
    "lower_limit = mean - (3 * STD)\n",
    "upper_limit = mean + (3 * STD)\n",
    "\n",
    "df_scores_final = df_scores[(df_scores[\"Students_Scores\"] >= lower_limit)\n",
    "                            &\n",
    "                            (df_scores[\"Students_Scores\"] <= upper_limit)]\n",
    "\n",
    "print(df_scores_final)"
   ]
  }
 ],
 "metadata": {
  "kernelspec": {
   "display_name": "Python 3 (ipykernel)",
   "language": "python",
   "name": "python3"
  },
  "language_info": {
   "codemirror_mode": {
    "name": "ipython",
    "version": 3
   },
   "file_extension": ".py",
   "mimetype": "text/x-python",
   "name": "python",
   "nbconvert_exporter": "python",
   "pygments_lexer": "ipython3",
   "version": "3.7.0"
  }
 },
 "nbformat": 4,
 "nbformat_minor": 2
}
